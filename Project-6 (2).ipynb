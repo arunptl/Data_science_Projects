{
 "cells": [
  {
   "cell_type": "markdown",
   "id": "42ab4965",
   "metadata": {},
   "source": [
    "   # ||||   Analysis On Time Series For Speech Emotion Recognition   ||||"
   ]
  },
  {
   "cell_type": "code",
   "execution_count": 6,
   "id": "f0ecde98",
   "metadata": {},
   "outputs": [
    {
     "name": "stdout",
     "output_type": "stream",
     "text": [
      "Defaulting to user installation because normal site-packages is not writeable\n",
      "Requirement already satisfied: librosa in c:\\users\\patil\\appdata\\roaming\\python\\python39\\site-packages (0.10.0.post2)\n",
      "Requirement already satisfied: soundfile in c:\\users\\patil\\appdata\\roaming\\python\\python39\\site-packages (0.12.1)\n",
      "Requirement already satisfied: numpy in c:\\programdata\\anaconda3\\lib\\site-packages (1.21.5)\n",
      "Requirement already satisfied: sklearn in c:\\users\\patil\\appdata\\roaming\\python\\python39\\site-packages (0.0.post1)\n",
      "Requirement already satisfied: pyaudio in c:\\users\\patil\\appdata\\roaming\\python\\python39\\site-packages (0.2.13)\n",
      "Requirement already satisfied: pooch<1.7,>=1.0 in c:\\users\\patil\\appdata\\roaming\\python\\python39\\site-packages (from librosa) (1.6.0)\n",
      "Requirement already satisfied: joblib>=0.14 in c:\\programdata\\anaconda3\\lib\\site-packages (from librosa) (1.1.0)\n",
      "Requirement already satisfied: scipy>=1.2.0 in c:\\programdata\\anaconda3\\lib\\site-packages (from librosa) (1.7.3)\n",
      "Requirement already satisfied: audioread>=2.1.9 in c:\\users\\patil\\appdata\\roaming\\python\\python39\\site-packages (from librosa) (3.0.0)\n",
      "Requirement already satisfied: decorator>=4.3.0 in c:\\programdata\\anaconda3\\lib\\site-packages (from librosa) (5.1.1)\n",
      "Requirement already satisfied: lazy-loader>=0.1 in c:\\users\\patil\\appdata\\roaming\\python\\python39\\site-packages (from librosa) (0.2)\n",
      "Requirement already satisfied: msgpack>=1.0 in c:\\programdata\\anaconda3\\lib\\site-packages (from librosa) (1.0.2)\n",
      "Requirement already satisfied: scikit-learn>=0.20.0 in c:\\programdata\\anaconda3\\lib\\site-packages (from librosa) (1.0.2)\n",
      "Requirement already satisfied: soxr>=0.3.2 in c:\\users\\patil\\appdata\\roaming\\python\\python39\\site-packages (from librosa) (0.3.4)\n",
      "Requirement already satisfied: typing-extensions>=4.1.1 in c:\\programdata\\anaconda3\\lib\\site-packages (from librosa) (4.1.1)\n",
      "Requirement already satisfied: numba>=0.51.0 in c:\\programdata\\anaconda3\\lib\\site-packages (from librosa) (0.55.1)\n",
      "Requirement already satisfied: cffi>=1.0 in c:\\programdata\\anaconda3\\lib\\site-packages (from soundfile) (1.15.0)\n",
      "Requirement already satisfied: pycparser in c:\\programdata\\anaconda3\\lib\\site-packages (from cffi>=1.0->soundfile) (2.21)\n",
      "Requirement already satisfied: llvmlite<0.39,>=0.38.0rc1 in c:\\programdata\\anaconda3\\lib\\site-packages (from numba>=0.51.0->librosa) (0.38.0)\n",
      "Requirement already satisfied: setuptools in c:\\programdata\\anaconda3\\lib\\site-packages (from numba>=0.51.0->librosa) (61.2.0)\n",
      "Requirement already satisfied: packaging>=20.0 in c:\\programdata\\anaconda3\\lib\\site-packages (from pooch<1.7,>=1.0->librosa) (21.3)\n",
      "Requirement already satisfied: requests>=2.19.0 in c:\\programdata\\anaconda3\\lib\\site-packages (from pooch<1.7,>=1.0->librosa) (2.27.1)\n",
      "Requirement already satisfied: appdirs>=1.3.0 in c:\\programdata\\anaconda3\\lib\\site-packages (from pooch<1.7,>=1.0->librosa) (1.4.4)\n",
      "Requirement already satisfied: pyparsing!=3.0.5,>=2.0.2 in c:\\programdata\\anaconda3\\lib\\site-packages (from packaging>=20.0->pooch<1.7,>=1.0->librosa) (3.0.4)\n",
      "Requirement already satisfied: charset-normalizer~=2.0.0 in c:\\programdata\\anaconda3\\lib\\site-packages (from requests>=2.19.0->pooch<1.7,>=1.0->librosa) (2.0.4)\n",
      "Requirement already satisfied: idna<4,>=2.5 in c:\\programdata\\anaconda3\\lib\\site-packages (from requests>=2.19.0->pooch<1.7,>=1.0->librosa) (3.3)\n",
      "Requirement already satisfied: urllib3<1.27,>=1.21.1 in c:\\programdata\\anaconda3\\lib\\site-packages (from requests>=2.19.0->pooch<1.7,>=1.0->librosa) (1.26.9)\n",
      "Requirement already satisfied: certifi>=2017.4.17 in c:\\programdata\\anaconda3\\lib\\site-packages (from requests>=2.19.0->pooch<1.7,>=1.0->librosa) (2021.10.8)\n",
      "Requirement already satisfied: threadpoolctl>=2.0.0 in c:\\programdata\\anaconda3\\lib\\site-packages (from scikit-learn>=0.20.0->librosa) (2.2.0)\n",
      "Note: you may need to restart the kernel to use updated packages.\n"
     ]
    }
   ],
   "source": [
    "pip install librosa soundfile numpy sklearn pyaudio"
   ]
  },
  {
   "cell_type": "code",
   "execution_count": 5,
   "id": "bfb40973",
   "metadata": {},
   "outputs": [],
   "source": [
    "# Import libraries \n",
    "import librosa\n",
    "import librosa.display\n",
    "import soundfile\n",
    "import numpy as np\n",
    "import matplotlib.pyplot as plt\n",
    "from matplotlib.pyplot import specgram\n",
    "import pandas as pd\n",
    "import os, glob, pickle\n",
    "from sklearn.model_selection import train_test_split\n",
    "from sklearn.neural_network import MLPClassifier\n",
    "from sklearn.metrics import accuracy_score\n",
    "import IPython.display as ipd  # To play sound in the notebook\n",
    "import sys\n",
    "import warnings\n",
    "# ignore warnings \n",
    "if not sys.warnoptions:\n",
    "    warnings.simplefilter(\"ignore\")\n",
    "warnings.filterwarnings(\"ignore\", category=DeprecationWarning) "
   ]
  },
  {
   "cell_type": "code",
   "execution_count": 21,
   "id": "d227c69b",
   "metadata": {},
   "outputs": [
    {
     "data": {
      "text/plain": [
       "['Actor_01',\n",
       " 'Actor_02',\n",
       " 'Actor_03',\n",
       " 'Actor_04',\n",
       " 'Actor_05',\n",
       " 'Actor_06',\n",
       " 'Actor_07',\n",
       " 'Actor_08',\n",
       " 'Actor_09',\n",
       " 'Actor_10',\n",
       " 'Actor_11',\n",
       " 'Actor_12',\n",
       " 'Actor_13',\n",
       " 'Actor_14',\n",
       " 'Actor_15',\n",
       " 'Actor_16',\n",
       " 'Actor_17',\n",
       " 'Actor_18',\n",
       " 'Actor_19',\n",
       " 'Actor_20',\n",
       " 'Actor_21',\n",
       " 'Actor_22',\n",
       " 'Actor_23',\n",
       " 'Actor_24']"
      ]
     },
     "execution_count": 21,
     "metadata": {},
     "output_type": "execute_result"
    }
   ],
   "source": [
    "RAV = \"C:\\\\Users\\\\patil\\\\OneDrive\\\\Desktop\\\\Data Science\\\\Arun Patil\\\\Project-6\\\\Actors\\\\\"\n",
    "\n",
    "# Run one example \n",
    "dir_list = os.listdir(RAV)\n",
    "dir_list[0:24]\n"
   ]
  },
  {
   "cell_type": "code",
   "execution_count": 7,
   "id": "98cb7afd",
   "metadata": {},
   "outputs": [
    {
     "data": {
      "text/plain": [
       "male_neutral       144\n",
       "female_neutral     144\n",
       "male_happy          96\n",
       "male_sad            96\n",
       "male_angry          96\n",
       "male_fear           96\n",
       "male_disgust        96\n",
       "male_surprise       96\n",
       "female_happy        96\n",
       "female_sad          96\n",
       "female_angry        96\n",
       "female_fear         96\n",
       "female_disgust      96\n",
       "female_surprise     96\n",
       "Name: labels, dtype: int64"
      ]
     },
     "execution_count": 7,
     "metadata": {},
     "output_type": "execute_result"
    }
   ],
   "source": [
    "dir_list = os.listdir(RAV)\n",
    "dir_list.sort()\n",
    "\n",
    "emotion = []\n",
    "gender = []\n",
    "path = []\n",
    "for i in dir_list:\n",
    "    fname = os.listdir(RAV + i)\n",
    "    for f in fname:\n",
    "        part = f.split('.')[0].split('-')\n",
    "        emotion.append(int(part[2]))\n",
    "        temp = int(part[6])\n",
    "        if temp%2 == 0:\n",
    "            temp = \"female\"\n",
    "        else:\n",
    "            temp = \"male\"\n",
    "        gender.append(temp)\n",
    "        path.append(RAV + i + '/' + f)\n",
    "\n",
    "        \n",
    "RAV_df = pd.DataFrame(emotion)\n",
    "RAV_df = RAV_df.replace({1:'neutral', 2:'neutral', 3:'happy', 4:'sad', 5:'angry', 6:'fear', 7:'disgust', 8:'surprise'})\n",
    "RAV_df = pd.concat([pd.DataFrame(gender),RAV_df],axis=1)\n",
    "RAV_df.columns = ['gender','emotion']\n",
    "RAV_df['labels'] =RAV_df.gender + '_' + RAV_df.emotion\n",
    "RAV_df['source'] = 'RAVDESS'  \n",
    "RAV_df = pd.concat([RAV_df,pd.DataFrame(path, columns = ['path'])],axis=1)\n",
    "RAV_df = RAV_df.drop(['gender', 'emotion'], axis=1)\n",
    "RAV_df.labels.value_counts()"
   ]
  },
  {
   "cell_type": "code",
   "execution_count": 45,
   "id": "751d417a",
   "metadata": {},
   "outputs": [],
   "source": [
    "RAV_df.to_excel(r\"C:\\\\Users\\\\patil\\\\OneDrive\\\\Desktop\\\\Data Science\\\\Arun Patil\\\\Project-6\\\\Actors\\\\Excel.xlsx\", index=False)"
   ]
  },
  {
   "cell_type": "code",
   "execution_count": 22,
   "id": "ffe60520",
   "metadata": {},
   "outputs": [
    {
     "name": "stdout",
     "output_type": "stream",
     "text": [
      "0\n"
     ]
    }
   ],
   "source": [
    "print(RAV_df.labels.isnull().sum())"
   ]
  },
  {
   "cell_type": "code",
   "execution_count": 25,
   "id": "668e3039",
   "metadata": {},
   "outputs": [
    {
     "data": {
      "text/html": [
       "<div>\n",
       "<style scoped>\n",
       "    .dataframe tbody tr th:only-of-type {\n",
       "        vertical-align: middle;\n",
       "    }\n",
       "\n",
       "    .dataframe tbody tr th {\n",
       "        vertical-align: top;\n",
       "    }\n",
       "\n",
       "    .dataframe thead th {\n",
       "        text-align: right;\n",
       "    }\n",
       "</style>\n",
       "<table border=\"1\" class=\"dataframe\">\n",
       "  <thead>\n",
       "    <tr style=\"text-align: right;\">\n",
       "      <th></th>\n",
       "      <th>labels</th>\n",
       "      <th>source</th>\n",
       "      <th>path</th>\n",
       "    </tr>\n",
       "  </thead>\n",
       "  <tbody>\n",
       "    <tr>\n",
       "      <th>count</th>\n",
       "      <td>1440</td>\n",
       "      <td>1440</td>\n",
       "      <td>1440</td>\n",
       "    </tr>\n",
       "    <tr>\n",
       "      <th>unique</th>\n",
       "      <td>14</td>\n",
       "      <td>1</td>\n",
       "      <td>1440</td>\n",
       "    </tr>\n",
       "    <tr>\n",
       "      <th>top</th>\n",
       "      <td>male_neutral</td>\n",
       "      <td>RAVDESS</td>\n",
       "      <td>C:\\Users\\patil\\OneDrive\\Desktop\\Data Science\\A...</td>\n",
       "    </tr>\n",
       "    <tr>\n",
       "      <th>freq</th>\n",
       "      <td>144</td>\n",
       "      <td>1440</td>\n",
       "      <td>1</td>\n",
       "    </tr>\n",
       "  </tbody>\n",
       "</table>\n",
       "</div>"
      ],
      "text/plain": [
       "              labels   source  \\\n",
       "count           1440     1440   \n",
       "unique            14        1   \n",
       "top     male_neutral  RAVDESS   \n",
       "freq             144     1440   \n",
       "\n",
       "                                                     path  \n",
       "count                                                1440  \n",
       "unique                                               1440  \n",
       "top     C:\\Users\\patil\\OneDrive\\Desktop\\Data Science\\A...  \n",
       "freq                                                    1  "
      ]
     },
     "execution_count": 25,
     "metadata": {},
     "output_type": "execute_result"
    }
   ],
   "source": [
    "RAV_df.describe()"
   ]
  },
  {
   "cell_type": "code",
   "execution_count": 8,
   "id": "b18d6f76",
   "metadata": {},
   "outputs": [],
   "source": [
    "#DataFlair - Extract features (mfcc, chroma, mel) from a sound file\n",
    "def extract_feature(file_name, mfcc, chroma, mel):\n",
    "    with soundfile.SoundFile(file_name) as sound_file:\n",
    "        X = sound_file.read(dtype=\"float32\")\n",
    "        sample_rate=sound_file.samplerate\n",
    "        if chroma:\n",
    "            stft=np.abs(librosa.stft(X))\n",
    "        result=np.array([])\n",
    "        if mfcc:\n",
    "            mfccs=np.mean(librosa.feature.mfcc(y=X, sr=sample_rate, n_mfcc=40).T, axis=0)\n",
    "            result=np.hstack((result, mfccs))\n",
    "        if chroma:\n",
    "            chroma=np.mean(librosa.feature.chroma_stft(S=stft, sr=sample_rate).T,axis=0)\n",
    "            result=np.hstack((result, chroma))\n",
    "        if mel:\n",
    "            mel=np.mean(librosa.feature.melspectrogram(y=X,sr=sample_rate).T,axis=0)\n",
    "            result=np.hstack((result, mel))\n",
    "    return result"
   ]
  },
  {
   "cell_type": "code",
   "execution_count": 9,
   "id": "d5a48fc1",
   "metadata": {},
   "outputs": [],
   "source": [
    "#DataFlair - Emotions in the dataset\n",
    "emotions={\n",
    "  '01':'neutral',\n",
    "  '02':'calm',\n",
    "  '03':'happy',\n",
    "  '04':'sad',\n",
    "  '05':'angry',\n",
    "  '06':'fearful',\n",
    "  '07':'disgust',\n",
    "  '08':'surprised'\n",
    "}\n",
    "#DataFlair - Emotions to observe\n",
    "observed_emotions=['calm', 'happy', 'fearful', 'disgust']"
   ]
  },
  {
   "cell_type": "code",
   "execution_count": 10,
   "id": "af79412e",
   "metadata": {},
   "outputs": [],
   "source": [
    "#DataFlair - Load the data and extract features for each sound file\n",
    "def load_data(test_size=0.2):\n",
    "    x,y=[],[]\n",
    "    for file in glob.glob(\"C:\\\\Users\\\\patil\\\\OneDrive\\\\Desktop\\\\Data Science\\\\Arun Patil\\\\Project-6\\\\Actors\\\\Actor_*\\\\*.wav\"):\n",
    "        file_name=os.path.basename(file)\n",
    "        emotion=emotions[file_name.split(\"-\")[2]]\n",
    "        if emotion not in observed_emotions:\n",
    "            continue\n",
    "        feature=extract_feature(file, mfcc=True, chroma=True, mel=True)\n",
    "        x.append(feature)\n",
    "        y.append(emotion)\n",
    "    return train_test_split(np.array(x), y, test_size=test_size, random_state=10)\n"
   ]
  },
  {
   "cell_type": "code",
   "execution_count": 47,
   "id": "6ef1c69e",
   "metadata": {},
   "outputs": [
    {
     "name": "stdout",
     "output_type": "stream",
     "text": [
      "132.23140495867767\n"
     ]
    },
    {
     "data": {
      "image/png": "[encoded data removed]",
      "text/plain": [
       "<Figure size 432x288 with 1 Axes>"
      ]
     },
     "metadata": {
      "needs_background": "light"
     },
     "output_type": "display_data"
    },
    {
     "ename": "AttributeError",
     "evalue": "module 'matplotlib' has no attribute 'pyplot'",
     "output_type": "error",
     "traceback": [
      "\u001b[1;31m---------------------------------------------------------------------------\u001b[0m",
      "\u001b[1;31mAttributeError\u001b[0m                            Traceback (most recent call last)",
      "File \u001b[1;32mC:\\ProgramData\\Anaconda3\\lib\\site-packages\\matplotlib_inline\\backend_inline.py:50\u001b[0m, in \u001b[0;36mshow\u001b[1;34m(close, block)\u001b[0m\n\u001b[0;32m     47\u001b[0m \u001b[38;5;66;03m# only call close('all') if any to close\u001b[39;00m\n\u001b[0;32m     48\u001b[0m \u001b[38;5;66;03m# close triggers gc.collect, which can be slow\u001b[39;00m\n\u001b[0;32m     49\u001b[0m \u001b[38;5;28;01mif\u001b[39;00m close \u001b[38;5;129;01mand\u001b[39;00m Gcf\u001b[38;5;241m.\u001b[39mget_all_fig_managers():\n\u001b[1;32m---> 50\u001b[0m     \u001b[43mmatplotlib\u001b[49m\u001b[38;5;241;43m.\u001b[39;49m\u001b[43mpyplot\u001b[49m\u001b[38;5;241m.\u001b[39mclose(\u001b[38;5;124m'\u001b[39m\u001b[38;5;124mall\u001b[39m\u001b[38;5;124m'\u001b[39m)\n",
      "File \u001b[1;32mC:\\ProgramData\\Anaconda3\\lib\\site-packages\\matplotlib\\_api\\__init__.py:222\u001b[0m, in \u001b[0;36mcaching_module_getattr.<locals>.__getattr__\u001b[1;34m(name)\u001b[0m\n\u001b[0;32m    220\u001b[0m \u001b[38;5;28;01mif\u001b[39;00m name \u001b[38;5;129;01min\u001b[39;00m props:\n\u001b[0;32m    221\u001b[0m     \u001b[38;5;28;01mreturn\u001b[39;00m props[name]\u001b[38;5;241m.\u001b[39m\u001b[38;5;21m__get__\u001b[39m(instance)\n\u001b[1;32m--> 222\u001b[0m \u001b[38;5;28;01mraise\u001b[39;00m \u001b[38;5;167;01mAttributeError\u001b[39;00m(\n\u001b[0;32m    223\u001b[0m     \u001b[38;5;124mf\u001b[39m\u001b[38;5;124m\"\u001b[39m\u001b[38;5;124mmodule \u001b[39m\u001b[38;5;132;01m{\u001b[39;00m\u001b[38;5;28mcls\u001b[39m\u001b[38;5;241m.\u001b[39m\u001b[38;5;18m__module__\u001b[39m\u001b[38;5;132;01m!r}\u001b[39;00m\u001b[38;5;124m has no attribute \u001b[39m\u001b[38;5;132;01m{\u001b[39;00mname\u001b[38;5;132;01m!r}\u001b[39;00m\u001b[38;5;124m\"\u001b[39m)\n",
      "\u001b[1;31mAttributeError\u001b[0m: module 'matplotlib' has no attribute 'pyplot'"
     ]
    }
   ],
   "source": [
    "import  scipy.io.wavfile  as wav\n",
    "\n",
    "def find_pitch(audiofile):\n",
    "    fs,x = wav.read(audiofile)\n",
    "    ms20=int((fs/50))\n",
    "    ms2=int(fs/500)\n",
    "\n",
    "    x=[i/32767 for i in x]\n",
    "\n",
    "    y=plt.acorr(x,maxlags=ms20,normed=True)\n",
    "\n",
    "    y=y[1]\n",
    "    z=y[round(len(y)/2):]\n",
    "    z=z[ms2:ms20]\n",
    "    zmax=max(z)\n",
    "\n",
    "    index=np.where(z==zmax)\n",
    "    index=index[0][0]\n",
    "\n",
    "    pitch=fs/(ms2+index+2)\n",
    "\n",
    "    return pitch\n",
    "\n",
    "p = find_pitch(\"C:\\\\Users\\\\patil\\\\OneDrive\\\\Desktop\\\\Data Science\\\\Arun Patil\\\\Project-6\\\\Actors\\\\Actor_01\\\\03-01-01-01-01-01-01.wav\")\n",
    "print(p)"
   ]
  },
  {
   "cell_type": "code",
   "execution_count": 11,
   "id": "86f96195",
   "metadata": {},
   "outputs": [],
   "source": [
    "#DataFlair - Split the dataset\n",
    "\n",
    "x_train,x_test,y_train,y_test=load_data(test_size=0.25)"
   ]
  },
  {
   "cell_type": "code",
   "execution_count": 7,
   "id": "38b554d2",
   "metadata": {},
   "outputs": [
    {
     "name": "stdout",
     "output_type": "stream",
     "text": [
      "(576, 192)\n"
     ]
    }
   ],
   "source": [
    "#DataFlair - Get the shape of the training and testing datasets\n",
    "print((x_train.shape[0], x_test.shape[0]))"
   ]
  },
  {
   "cell_type": "code",
   "execution_count": 29,
   "id": "2eddd3f0",
   "metadata": {},
   "outputs": [
    {
     "data": {
      "text/plain": [
       "(576, 192)"
      ]
     },
     "execution_count": 29,
     "metadata": {},
     "output_type": "execute_result"
    }
   ],
   "source": [
    "len(x_train), len(x_test)"
   ]
  },
  {
   "cell_type": "code",
   "execution_count": 8,
   "id": "5011bef6",
   "metadata": {},
   "outputs": [
    {
     "name": "stdout",
     "output_type": "stream",
     "text": [
      "Features extracted: 180\n"
     ]
    }
   ],
   "source": [
    "#DataFlair - Get the number of features extracted\n",
    "print(f'Features extracted: {x_train.shape[1]}')"
   ]
  },
  {
   "cell_type": "code",
   "execution_count": 9,
   "id": "ad04e9f2",
   "metadata": {},
   "outputs": [],
   "source": [
    "#DataFlair - Initialize the Multi Layer Perceptron Classifier\n",
    "model=MLPClassifier(alpha=0.01, batch_size=256, epsilon=1e-08, hidden_layer_sizes=(300,), learning_rate='adaptive', max_iter=500)"
   ]
  },
  {
   "cell_type": "code",
   "execution_count": 10,
   "id": "fc52acc7",
   "metadata": {},
   "outputs": [
    {
     "data": {
      "text/plain": [
       "MLPClassifier(alpha=0.01, batch_size=256, hidden_layer_sizes=(300,),\n",
       "              learning_rate='adaptive', max_iter=500)"
      ]
     },
     "execution_count": 10,
     "metadata": {},
     "output_type": "execute_result"
    }
   ],
   "source": [
    "#DataFlair - Train the model\n",
    "model.fit(x_train,y_train) "
   ]
  },
  {
   "cell_type": "code",
   "execution_count": 11,
   "id": "abad4c19",
   "metadata": {},
   "outputs": [],
   "source": [
    "#DataFlair - Predict for the test set\n",
    "y_pred=model.predict(x_test)"
   ]
  },
  {
   "cell_type": "code",
   "execution_count": 31,
   "id": "2d2d55ac",
   "metadata": {},
   "outputs": [
    {
     "data": {
      "text/plain": [
       "array(['happy', 'calm', 'happy', 'happy', 'fearful', 'calm', 'calm',\n",
       "       'disgust', 'calm', 'happy', 'happy', 'calm', 'fearful', 'happy',\n",
       "       'disgust', 'happy', 'calm', 'disgust', 'disgust', 'calm', 'calm',\n",
       "       'disgust', 'disgust', 'calm', 'fearful', 'happy', 'calm', 'happy',\n",
       "       'calm', 'fearful', 'happy', 'disgust', 'happy', 'calm', 'happy',\n",
       "       'calm', 'calm', 'fearful', 'calm', 'calm', 'happy', 'calm', 'calm',\n",
       "       'calm', 'fearful', 'calm', 'calm', 'calm', 'calm', 'happy',\n",
       "       'fearful', 'fearful', 'calm', 'happy', 'happy', 'fearful',\n",
       "       'disgust', 'happy', 'calm', 'calm', 'disgust', 'calm', 'happy',\n",
       "       'calm', 'disgust', 'calm', 'calm', 'disgust', 'disgust', 'happy',\n",
       "       'fearful', 'fearful', 'fearful', 'fearful', 'fearful', 'disgust',\n",
       "       'fearful', 'happy', 'calm', 'fearful', 'calm', 'calm', 'fearful',\n",
       "       'calm', 'disgust', 'calm', 'calm', 'fearful', 'happy', 'fearful',\n",
       "       'disgust', 'calm', 'calm', 'happy', 'disgust', 'fearful', 'calm',\n",
       "       'calm', 'calm', 'calm', 'fearful', 'fearful', 'disgust', 'fearful',\n",
       "       'disgust', 'calm', 'disgust', 'disgust', 'fearful', 'happy',\n",
       "       'calm', 'calm', 'calm', 'fearful', 'fearful', 'calm', 'calm',\n",
       "       'happy', 'calm', 'fearful', 'calm', 'calm', 'calm', 'happy',\n",
       "       'fearful', 'calm', 'disgust', 'fearful', 'calm', 'calm', 'fearful',\n",
       "       'happy', 'happy', 'disgust', 'disgust', 'happy', 'fearful', 'calm',\n",
       "       'calm', 'disgust', 'calm', 'calm', 'disgust', 'happy', 'happy',\n",
       "       'fearful', 'disgust', 'fearful', 'happy', 'calm', 'calm', 'happy',\n",
       "       'happy', 'calm', 'happy', 'calm', 'calm', 'disgust', 'calm',\n",
       "       'calm', 'disgust', 'calm', 'calm', 'calm', 'calm', 'fearful',\n",
       "       'fearful', 'fearful', 'calm', 'fearful', 'happy', 'fearful',\n",
       "       'disgust', 'disgust', 'happy', 'fearful', 'calm', 'fearful',\n",
       "       'calm', 'fearful', 'disgust', 'fearful', 'calm', 'calm', 'disgust',\n",
       "       'happy', 'happy', 'fearful', 'happy', 'happy', 'disgust', 'calm'],\n",
       "      dtype='<U7')"
      ]
     },
     "execution_count": 31,
     "metadata": {},
     "output_type": "execute_result"
    }
   ],
   "source": [
    "y_pred"
   ]
  },
  {
   "cell_type": "code",
   "execution_count": 51,
   "id": "6a6b0860",
   "metadata": {},
   "outputs": [
    {
     "name": "stdout",
     "output_type": "stream",
     "text": [
      "Accuracy: 73.44%\n"
     ]
    }
   ],
   "source": [
    "#DataFlair - Calculate the accuracy of our model\n",
    "accuracy=accuracy_score(y_true=y_test, y_pred=y_pred)\n",
    "#DataFlair - Print the accuracy\n",
    "print(\"Accuracy: {:.2f}%\".format(accuracy*100))"
   ]
  },
  {
   "cell_type": "code",
   "execution_count": 14,
   "id": "1d0f6447",
   "metadata": {},
   "outputs": [],
   "source": [
    "from sklearn.metrics import accuracy_score, f1_score"
   ]
  },
  {
   "cell_type": "code",
   "execution_count": 15,
   "id": "4207c019",
   "metadata": {},
   "outputs": [
    {
     "data": {
      "text/plain": [
       "array([0.82706767, 0.69135802, 0.7       , 0.66666667])"
      ]
     },
     "execution_count": 15,
     "metadata": {},
     "output_type": "execute_result"
    }
   ],
   "source": [
    "f1_score(y_test,y_pred, average=None)"
   ]
  },
  {
   "cell_type": "code",
   "execution_count": 16,
   "id": "9c7197e8",
   "metadata": {},
   "outputs": [
    {
     "data": {
      "text/html": [
       "<div>\n",
       "<style scoped>\n",
       "    .dataframe tbody tr th:only-of-type {\n",
       "        vertical-align: middle;\n",
       "    }\n",
       "\n",
       "    .dataframe tbody tr th {\n",
       "        vertical-align: top;\n",
       "    }\n",
       "\n",
       "    .dataframe thead th {\n",
       "        text-align: right;\n",
       "    }\n",
       "</style>\n",
       "<table border=\"1\" class=\"dataframe\">\n",
       "  <thead>\n",
       "    <tr style=\"text-align: right;\">\n",
       "      <th></th>\n",
       "      <th>Actual</th>\n",
       "      <th>Predicted</th>\n",
       "    </tr>\n",
       "  </thead>\n",
       "  <tbody>\n",
       "    <tr>\n",
       "      <th>0</th>\n",
       "      <td>happy</td>\n",
       "      <td>happy</td>\n",
       "    </tr>\n",
       "    <tr>\n",
       "      <th>1</th>\n",
       "      <td>calm</td>\n",
       "      <td>calm</td>\n",
       "    </tr>\n",
       "    <tr>\n",
       "      <th>2</th>\n",
       "      <td>happy</td>\n",
       "      <td>happy</td>\n",
       "    </tr>\n",
       "    <tr>\n",
       "      <th>3</th>\n",
       "      <td>happy</td>\n",
       "      <td>happy</td>\n",
       "    </tr>\n",
       "    <tr>\n",
       "      <th>4</th>\n",
       "      <td>disgust</td>\n",
       "      <td>fearful</td>\n",
       "    </tr>\n",
       "    <tr>\n",
       "      <th>5</th>\n",
       "      <td>calm</td>\n",
       "      <td>calm</td>\n",
       "    </tr>\n",
       "    <tr>\n",
       "      <th>6</th>\n",
       "      <td>happy</td>\n",
       "      <td>calm</td>\n",
       "    </tr>\n",
       "    <tr>\n",
       "      <th>7</th>\n",
       "      <td>happy</td>\n",
       "      <td>disgust</td>\n",
       "    </tr>\n",
       "    <tr>\n",
       "      <th>8</th>\n",
       "      <td>disgust</td>\n",
       "      <td>calm</td>\n",
       "    </tr>\n",
       "    <tr>\n",
       "      <th>9</th>\n",
       "      <td>happy</td>\n",
       "      <td>happy</td>\n",
       "    </tr>\n",
       "    <tr>\n",
       "      <th>10</th>\n",
       "      <td>happy</td>\n",
       "      <td>happy</td>\n",
       "    </tr>\n",
       "    <tr>\n",
       "      <th>11</th>\n",
       "      <td>disgust</td>\n",
       "      <td>calm</td>\n",
       "    </tr>\n",
       "    <tr>\n",
       "      <th>12</th>\n",
       "      <td>happy</td>\n",
       "      <td>fearful</td>\n",
       "    </tr>\n",
       "    <tr>\n",
       "      <th>13</th>\n",
       "      <td>happy</td>\n",
       "      <td>happy</td>\n",
       "    </tr>\n",
       "    <tr>\n",
       "      <th>14</th>\n",
       "      <td>disgust</td>\n",
       "      <td>disgust</td>\n",
       "    </tr>\n",
       "    <tr>\n",
       "      <th>15</th>\n",
       "      <td>fearful</td>\n",
       "      <td>happy</td>\n",
       "    </tr>\n",
       "    <tr>\n",
       "      <th>16</th>\n",
       "      <td>calm</td>\n",
       "      <td>calm</td>\n",
       "    </tr>\n",
       "    <tr>\n",
       "      <th>17</th>\n",
       "      <td>happy</td>\n",
       "      <td>disgust</td>\n",
       "    </tr>\n",
       "    <tr>\n",
       "      <th>18</th>\n",
       "      <td>disgust</td>\n",
       "      <td>disgust</td>\n",
       "    </tr>\n",
       "    <tr>\n",
       "      <th>19</th>\n",
       "      <td>disgust</td>\n",
       "      <td>calm</td>\n",
       "    </tr>\n",
       "  </tbody>\n",
       "</table>\n",
       "</div>"
      ],
      "text/plain": [
       "     Actual Predicted\n",
       "0     happy     happy\n",
       "1      calm      calm\n",
       "2     happy     happy\n",
       "3     happy     happy\n",
       "4   disgust   fearful\n",
       "5      calm      calm\n",
       "6     happy      calm\n",
       "7     happy   disgust\n",
       "8   disgust      calm\n",
       "9     happy     happy\n",
       "10    happy     happy\n",
       "11  disgust      calm\n",
       "12    happy   fearful\n",
       "13    happy     happy\n",
       "14  disgust   disgust\n",
       "15  fearful     happy\n",
       "16     calm      calm\n",
       "17    happy   disgust\n",
       "18  disgust   disgust\n",
       "19  disgust      calm"
      ]
     },
     "execution_count": 16,
     "metadata": {},
     "output_type": "execute_result"
    }
   ],
   "source": [
    "import pandas as pd\n",
    "df=pd.DataFrame({'Actual' : y_test, 'Predicted' : y_pred})\n",
    "df.head(20)"
   ]
  },
  {
   "cell_type": "code",
   "execution_count": 17,
   "id": "0477275f",
   "metadata": {},
   "outputs": [],
   "source": [
    "import pickle\n",
    "# writing a differant model files to file\n",
    "\n",
    "with open('modelForPrediction.sav', 'wb') as f:\n",
    "    pickle.dump(model,f)"
   ]
  },
  {
   "cell_type": "code",
   "execution_count": 18,
   "id": "4bb9a3a0",
   "metadata": {},
   "outputs": [],
   "source": [
    "filename = 'modelForPrediction.sav'\n",
    "loded_model = pickle.load(open(filename, 'rb')) #loading the file from the storage \n",
    "\n"
   ]
  },
  {
   "cell_type": "code",
   "execution_count": 19,
   "id": "a5290839",
   "metadata": {},
   "outputs": [
    {
     "data": {
      "text/plain": [
       "array(['calm'], dtype='<U7')"
      ]
     },
     "execution_count": 19,
     "metadata": {},
     "output_type": "execute_result"
    }
   ],
   "source": [
    "feature = extract_feature('C:\\\\Users\\\\arunp\\\\OneDrive\\\\Desktop\\\\DADS practice\\\\Internship\\\\Project-6\\\\Actor_01\\\\03-01-01-01-01-01-01.wav',mfcc=True, chroma=True, mel=True)\n",
    "feature = feature.reshape(1,-1)\n",
    "Prediction = loded_model.predict(feature)\n",
    "Prediction"
   ]
  },
  {
   "cell_type": "code",
   "execution_count": 38,
   "id": "14517ad3",
   "metadata": {},
   "outputs": [
    {
     "data": {
      "text/plain": [
       "array([[-6.93497009e+02,  5.00643921e+01,  5.71450770e-01,\n",
       "         1.43299656e+01,  3.33636999e+00, -2.54071975e+00,\n",
       "        -4.05790901e+00, -1.07119999e+01, -7.29414034e+00,\n",
       "         1.74018872e+00, -4.19064283e+00,  1.95466173e+00,\n",
       "        -5.24789429e+00,  2.78143024e+00, -3.16756773e+00,\n",
       "        -3.40008307e+00, -2.37803221e+00, -5.68717718e-01,\n",
       "        -6.47753382e+00, -1.24320555e+00, -2.80542517e+00,\n",
       "        -5.43635798e+00, -4.46875244e-01, -3.63516617e+00,\n",
       "        -2.98372602e+00, -5.63902497e-01, -1.65101981e+00,\n",
       "        -5.55944800e-01, -3.41018438e+00, -2.24465466e+00,\n",
       "        -3.13058877e+00, -2.70089960e+00, -1.88821304e+00,\n",
       "        -5.54154336e-01, -3.96459913e+00, -2.13485193e+00,\n",
       "        -3.94577074e+00, -1.62457895e+00, -2.03990722e+00,\n",
       "        -3.62910867e+00,  6.33734703e-01,  6.48760676e-01,\n",
       "         6.21744215e-01,  6.34553194e-01,  6.60345733e-01,\n",
       "         6.60463989e-01,  7.00949013e-01,  7.31556296e-01,\n",
       "         7.46921420e-01,  7.23420501e-01,  7.16119647e-01,\n",
       "         6.30602837e-01,  6.52830636e-07,  2.22643266e-05,\n",
       "         8.42613052e-04,  1.37719270e-02,  2.83742324e-02,\n",
       "         3.12111359e-02,  8.02663807e-03,  3.56961833e-03,\n",
       "         2.32551787e-02,  2.45211683e-02,  1.87926665e-02,\n",
       "         2.44478174e-02,  1.16031338e-02,  8.60342197e-03,\n",
       "         6.71913056e-03,  9.94843338e-03,  1.89656094e-02,\n",
       "         5.04483357e-02,  4.14051339e-02,  9.96424630e-03,\n",
       "         9.64601431e-03,  1.54170115e-02,  4.05186079e-02,\n",
       "         2.10739672e-02,  2.12946697e-03,  2.76945531e-03,\n",
       "         5.57055743e-03,  1.91831719e-02,  1.36224311e-02,\n",
       "         1.21960300e-03,  6.94197835e-04,  8.96891870e-04,\n",
       "         8.47186951e-04,  3.62369727e-04,  2.21950642e-04,\n",
       "         1.40306875e-04,  2.73740763e-04,  3.75907082e-04,\n",
       "         8.28741526e-04,  8.59786058e-04,  6.12733071e-04,\n",
       "         3.95248993e-04,  2.20409798e-04,  3.04378307e-04,\n",
       "         1.89061835e-03,  1.24956470e-03,  1.03854900e-03,\n",
       "         2.60822126e-03,  3.86649882e-03,  4.33528004e-03,\n",
       "         9.54611111e-04,  4.93530591e-04,  4.47093364e-04,\n",
       "         8.03626666e-04,  7.09871238e-04,  3.92192771e-04,\n",
       "         6.18621008e-04,  9.43593972e-04,  7.60865514e-04,\n",
       "         7.23498932e-04,  1.00387214e-03,  9.19646234e-04,\n",
       "         8.18870671e-04,  5.08129189e-04,  4.11667366e-04,\n",
       "         4.03237646e-04,  1.48571402e-04,  6.84264640e-04,\n",
       "         1.38615607e-03,  2.92808865e-04,  5.09449310e-05,\n",
       "         7.45297148e-05,  1.39878655e-04,  8.93816250e-05,\n",
       "         1.35135124e-04,  1.09651715e-04,  2.46569631e-04,\n",
       "         7.43343204e-04,  4.77164402e-04,  6.96408853e-04,\n",
       "         4.74705710e-04,  2.55434716e-04,  1.59143689e-04,\n",
       "         8.08707482e-05,  9.79213364e-05,  8.84003894e-05,\n",
       "         9.75710209e-05,  1.17046940e-04,  1.84339995e-04,\n",
       "         1.69435385e-04,  2.55545980e-04,  2.40519148e-04,\n",
       "         4.28831205e-04,  2.98486266e-04,  4.27471416e-04,\n",
       "         1.06324667e-04,  5.85673333e-05,  2.31044742e-05,\n",
       "         8.89405237e-06,  1.98013931e-05,  1.09333178e-05,\n",
       "         3.66455424e-05,  3.68459878e-05,  5.25096366e-05,\n",
       "         3.77127617e-05,  8.86667185e-05,  7.79374823e-05,\n",
       "         4.24979553e-05,  6.51855808e-05,  3.53608302e-05,\n",
       "         2.41367925e-05,  2.45215579e-05,  2.89214531e-05,\n",
       "         3.95157222e-05,  2.72971338e-05,  1.96686051e-05,\n",
       "         1.51977429e-05,  1.06007192e-05,  7.99631744e-06,\n",
       "         6.07571974e-06,  4.48540641e-06,  4.12061945e-06,\n",
       "         3.71885676e-06,  3.93320988e-06,  3.48488379e-06,\n",
       "         4.07551670e-06,  1.81608038e-06,  7.83327664e-07]])"
      ]
     },
     "execution_count": 38,
     "metadata": {},
     "output_type": "execute_result"
    }
   ],
   "source": [
    "feature"
   ]
  },
  {
   "cell_type": "code",
   "execution_count": 46,
   "id": "03dcda7b",
   "metadata": {},
   "outputs": [],
   "source": [
    "from scipy.io.wavfile import read\n",
    "samplerate, data= read(\"C:\\\\Users\\\\arunp\\\\OneDrive\\\\Desktop\\\\DADS practice\\\\Internship\\\\Project-6\\\\Actor_01\\\\03-01-01-01-01-01-01.wav\")"
   ]
  },
  {
   "cell_type": "code",
   "execution_count": 50,
   "id": "126b33ae",
   "metadata": {},
   "outputs": [
    {
     "data": {
      "text/plain": [
       "16000"
      ]
     },
     "execution_count": 50,
     "metadata": {},
     "output_type": "execute_result"
    }
   ],
   "source": [
    "samplerate"
   ]
  },
  {
   "cell_type": "code",
   "execution_count": 47,
   "id": "dc519f90",
   "metadata": {},
   "outputs": [
    {
     "data": {
      "text/plain": [
       "array([0, 0, 0, ..., 0, 0, 0], dtype=int16)"
      ]
     },
     "execution_count": 47,
     "metadata": {},
     "output_type": "execute_result"
    }
   ],
   "source": [
    "\n",
    "data"
   ]
  },
  {
   "cell_type": "code",
   "execution_count": 48,
   "id": "8a43ef72",
   "metadata": {},
   "outputs": [],
   "source": [
    "duration=len(data)/samplerate\n",
    "time=np.arange(0,duration,1/samplerate)"
   ]
  },
  {
   "cell_type": "code",
   "execution_count": 49,
   "id": "cae0d1e7",
   "metadata": {},
   "outputs": [
    {
     "data": {
      "image/png": "[encoded data removed]",
      "text/plain": [
       "<Figure size 432x288 with 1 Axes>"
      ]
     },
     "metadata": {
      "needs_background": "light"
     },
     "output_type": "display_data"
    }
   ],
   "source": [
    "import matplotlib.pyplot as plt\n",
    "plt.plot(time,data)\n",
    "plt.xlabel('Time [s]')\n",
    "plt.ylabel('Amplitude')\n",
    "plt.show()"
   ]
  },
  {
   "cell_type": "markdown",
   "id": "d7b7af26",
   "metadata": {},
   "source": [
    "# |||||||||||||||| |||||||||||||||||||||||||||||        THANK YOU             ||||||||||||||||||||||||||    ||||||||||||||"
   ]
  }
 ],
 "metadata": {
  "kernelspec": {
   "display_name": "Python 3 (ipykernel)",
   "language": "python",
   "name": "python3"
  },
  "language_info": {
   "codemirror_mode": {
    "name": "ipython",
    "version": 3
   },
   "file_extension": ".py",
   "mimetype": "text/x-python",
   "name": "python",
   "nbconvert_exporter": "python",
   "pygments_lexer": "ipython3",
   "version": "3.10.9"
  }
 },
 "nbformat": 4,
 "nbformat_minor": 5
}
